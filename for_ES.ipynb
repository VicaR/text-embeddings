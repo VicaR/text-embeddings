{
 "cells": [
  {
   "cell_type": "markdown",
   "metadata": {},
   "source": [
    "<font size=10> Using embeddings for similarity search </font>"
   ]
  },
  {
   "cell_type": "markdown",
   "metadata": {},
   "source": [
    "Let’s suppose we had a large collection of questions and answers. A user can ask a question, and we want to retrieve the most similar question in our collection to help them find an answer.\n",
    "\n",
    "We could use text embeddings to allow for retrieving similar questions:\n",
    "\n",
    "During indexing, each question is run through a sentence embedding model to produce a numeric vector.\n",
    "When a user enters a query, it is run through the same sentence embedding model to produce a vector. To rank the responses, we calculate the vector similarity between each question and the query vector. When comparing embedding vectors, it is common to use cosine similarity.\n",
    "This notebook gives a simple example of how this could be accomplished in Elasticsearch. The main script indexes ~20,000 questions from the StackOverflow dataset, then allows the user to enter free-text queries against the dataset."
   ]
  },
  {
   "cell_type": "code",
   "execution_count": 1,
   "metadata": {},
   "outputs": [
    {
     "name": "stdout",
     "output_type": "stream",
     "text": [
      "1 Physical GPUs, 1 Logical GPUs\n"
     ]
    }
   ],
   "source": [
    "import json\n",
    "import time\n",
    "\n",
    "from elasticsearch import Elasticsearch\n",
    "from elasticsearch.helpers import bulk\n",
    "\n",
    "# Use tensorflow 1 behavior to match the Universal Sentence Encoder\n",
    "# examples (https://tfhub.dev/google/universal-sentence-encoder/2).\n",
    "import tensorflow.compat.v1 as tf\n",
    "\n",
    "#For proper memory usage of GPU\n",
    "gpus = tf.config.experimental.list_physical_devices('GPU')\n",
    "if gpus:\n",
    "     try:\n",
    "    # Currently, memory growth needs to be the same across GPUs\n",
    "        for gpu in gpus:\n",
    "          tf.config.experimental.set_memory_growth(gpu, True)\n",
    "          logical_gpus = tf.config.experimental.list_logical_devices('GPU')\n",
    "          print(len(gpus), \"Physical GPUs,\", len(logical_gpus), \"Logical GPUs\")\n",
    "     except RuntimeError as e:\n",
    "    # Memory growth must be set before GPUs have been initialized\n",
    "        print(e)"
   ]
  },
  {
   "cell_type": "code",
   "execution_count": 2,
   "metadata": {},
   "outputs": [],
   "source": [
    "##### INDEXING #####\n",
    "\n",
    "def index_data():\n",
    "    print(\"Creating the 'posts' index.\")\n",
    "    client.indices.delete(index=INDEX_NAME, ignore=[404])\n",
    "\n",
    "    with open(INDEX_FILE) as index_file:\n",
    "        source = index_file.read().strip()\n",
    "        client.indices.create(index=INDEX_NAME, body=source)\n",
    "\n",
    "    docs = []\n",
    "    count = 0\n",
    "\n",
    "    with open(DATA_FILE) as data_file:\n",
    "        for line in data_file:\n",
    "            line = line.strip()\n",
    "\n",
    "            doc = json.loads(line)\n",
    "            if doc[\"type\"] != \"question\":\n",
    "                continue\n",
    "\n",
    "            docs.append(doc)\n",
    "            count += 1\n",
    "\n",
    "            if count % BATCH_SIZE == 0:\n",
    "                index_batch(docs)\n",
    "                docs = []\n",
    "                print(\"Indexed {} documents.\".format(count))\n",
    "\n",
    "        if docs:\n",
    "            index_batch(docs)\n",
    "            print(\"Indexed {} documents.\".format(count))\n",
    "\n",
    "    client.indices.refresh(index=INDEX_NAME)\n",
    "    print(\"Done indexing.\")\n",
    "\n",
    "def index_batch(docs):\n",
    "    titles = [doc[\"title\"] for doc in docs]\n",
    "    title_vectors = embed_text(titles)\n",
    "\n",
    "    requests = []\n",
    "    for i, doc in enumerate(docs):\n",
    "        request = doc\n",
    "        request[\"_op_type\"] = \"index\"\n",
    "        request[\"_index\"] = INDEX_NAME\n",
    "        request[\"title_vector\"] = title_vectors[i]\n",
    "        requests.append(request)\n",
    "    bulk(client, requests)"
   ]
  },
  {
   "cell_type": "code",
   "execution_count": 3,
   "metadata": {},
   "outputs": [],
   "source": [
    "##### SEARCHING #####\n",
    "\n",
    "def run_query_loop():\n",
    "    for i in range (5): #т.к. прерывания не работают, делаю 5 запусков функции поиска\n",
    "        try:\n",
    "            handle_query()\n",
    "        except KeyboardInterrupt:\n",
    "            break\n",
    "\n",
    "def handle_query():\n",
    "    query = input(\"Enter query: \")\n",
    "\n",
    "    embedding_start = time.time()\n",
    "    query_vector = embed_text([query])[0]\n",
    "    embedding_time = time.time() - embedding_start\n",
    "\n",
    "    script_query = {\n",
    "        \"script_score\": {\n",
    "            \"query\": {\"match_all\": {}},\n",
    "            \"script\": {\n",
    "                \"source\": \"cosineSimilarity(params.query_vector, doc['title_vector']) + 1.0\",\n",
    "                \"params\": {\"query_vector\": query_vector}\n",
    "            }\n",
    "        }\n",
    "    }\n",
    "\n",
    "    search_start = time.time()\n",
    "    response = client.search(\n",
    "        index=INDEX_NAME,\n",
    "        body={\n",
    "            \"size\": SEARCH_SIZE,\n",
    "            \"query\": script_query,\n",
    "            \"_source\": {\"includes\": [\"title\", \"body\"]}\n",
    "        }\n",
    "    )\n",
    "    search_time = time.time() - search_start\n",
    "\n",
    "    print()\n",
    "    print(\"{} total hits.\".format(response[\"hits\"][\"total\"][\"value\"]))\n",
    "    print(\"embedding time: {:.2f} ms\".format(embedding_time * 1000))\n",
    "    print(\"search time: {:.2f} ms\".format(search_time * 1000))\n",
    "    for hit in response[\"hits\"][\"hits\"]:\n",
    "        print(\"id: {}, score: {}\".format(hit[\"_id\"], hit[\"_score\"]))\n",
    "        print(hit[\"_source\"])\n",
    "        print()"
   ]
  },
  {
   "cell_type": "code",
   "execution_count": 4,
   "metadata": {},
   "outputs": [],
   "source": [
    "##### EMBEDDING #####\n",
    "\n",
    "def embed_text(text):\n",
    "    vectors = session.run(embeddings, feed_dict={text_ph: text})\n",
    "    return [vector.tolist() for vector in vectors]\n"
   ]
  },
  {
   "cell_type": "code",
   "execution_count": 5,
   "metadata": {},
   "outputs": [
    {
     "name": "stdout",
     "output_type": "stream",
     "text": [
      "name=main\n",
      "Downloading pre-trained embeddings from tensorflow hub...\n",
      "WARNING:tensorflow:From C:\\Users\\viktoriya_rakhuba\\Anaconda3\\lib\\site-packages\\tensorflow_core\\python\\ops\\resource_variable_ops.py:1781: calling BaseResourceVariable.__init__ (from tensorflow.python.ops.resource_variable_ops) with constraint is deprecated and will be removed in a future version.\n",
      "Instructions for updating:\n",
      "If using Keras pass *_constraint arguments to layers.\n"
     ]
    },
    {
     "name": "stderr",
     "output_type": "stream",
     "text": [
      "WARNING:tensorflow:From C:\\Users\\viktoriya_rakhuba\\Anaconda3\\lib\\site-packages\\tensorflow_core\\python\\ops\\resource_variable_ops.py:1781: calling BaseResourceVariable.__init__ (from tensorflow.python.ops.resource_variable_ops) with constraint is deprecated and will be removed in a future version.\n",
      "Instructions for updating:\n",
      "If using Keras pass *_constraint arguments to layers.\n"
     ]
    },
    {
     "name": "stdout",
     "output_type": "stream",
     "text": [
      "Done.\n",
      "Creating tensorflow session...\n",
      "running session...\n",
      "ran session...\n",
      "Done.\n",
      "Enter query: cuda\n"
     ]
    },
    {
     "name": "stderr",
     "output_type": "stream",
     "text": [
      "C:\\Users\\viktoriya_rakhuba\\Anaconda3\\lib\\site-packages\\elasticsearch\\connection\\base.py:190: ElasticsearchDeprecationWarning: The vector functions of the form function(query, doc['field']) are deprecated, and the form function(query, 'field') should be used instead. For example, cosineSimilarity(query, doc['field']) is replaced by cosineSimilarity(query, 'field').\n",
      "  warnings.warn(message, category=ElasticsearchDeprecationWarning)\n"
     ]
    },
    {
     "name": "stdout",
     "output_type": "stream",
     "text": [
      "\n",
      "10000 total hits.\n",
      "embedding time: 1630.90 ms\n",
      "search time: 40.02 ms\n",
      "id: cjDJvnQBox4EoX0F53Qs, score: 1.8136228\n",
      "{'title': 'raytracing with CUDA', 'body': \"I'm currently implementing a raytracer. Since raytracing is extremely computation heavy and since I am going to be looking into CUDA programming anyway, I was wondering if anyone has any experience with combining the two. I can't really tell if the computational models match and I would like to know what to expect. I get the impression that it's not exactly a match made in heaven, but a decent speed increasy would be better than nothing. \"}\n",
      "\n",
      "id: YjDKvnQBox4EoX0FAYfg, score: 1.5882075\n",
      "{'title': 'CUDA global (as in C) dynamic arrays allocated to device memory', 'body': \"So, im trying to write some code that utilizes Nvidia's CUDA architecture. I noticed that copying to and from the device was really hurting my overall performance, so now I am trying to move a large amount of data onto the device. As this data is used in numerous functions, I would like it to be global. Yes, I can pass pointers around, but I would really like to know how to work with globals in this instance. So, I have device functions that want to access a device allocated array. Ideally, I could do something like: __device__ float* global_data; main() { cudaMalloc(global_data); kernel1<<<blah>>>(blah); //access global data kernel2<<<blah>>>(blah); //access global data again } However, I havent figured out how to create a dynamic array. I figured out a work around by declaring the array as follows: __device__ float global_data[REALLY_LARGE_NUMBER]; And while that doesn't require a cudaMalloc call, I would prefer the dynamic allocation approach. \"}\n",
      "\n",
      "id: iDDKvnQBox4EoX0FL6fV, score: 1.5289842\n",
      "{'title': 'MPI for multicore?', 'body': 'With the recent buzz on multicore programming is anyone exploring the possibilities of using MPI ? '}\n",
      "\n",
      "id: GjDKvnQBox4EoX0FAYjg, score: 1.4558325\n",
      "{'title': 'makefiles CFLAGS', 'body': 'In the process of learning tinyos I have discovered that I am totally clueless about makefiles. There are many optional compile time features that can be used by way of declaring preprocessor variables. To use them you have to do things like: CFLAGS=\"-DPACKET_LINK\" this enables a certain feature. and CFLAGS=\"-DPACKET_LINK\" \"-DLOW_POWER\" enables two features. Can someone dissect these lines for me and tell me whats going on? Not in terms of tinyos, but in terms of makefiles! '}\n",
      "\n",
      "id: QjDKvnQBox4EoX0FL6fV, score: 1.4157583\n",
      "{'title': 'Multithreaded Memory Allocators for C/C++', 'body': \"I currently have heavily multi-threaded server application, and I'm shopping around for a good multi-threaded memory allocator. So far I'm torn between: Sun's umem Google's tcmalloc Intel's threading building blocks allocator Emery Berger's hoard From what I've found hoard might be the fastest, but I hadn't heard of it before today, so I'm skeptical if its really as good as it seems. Anyone have personal experience trying out these allocators? \"}\n",
      "\n",
      "Enter query: 2\n",
      "\n",
      "10000 total hits.\n",
      "embedding time: 8.00 ms\n",
      "search time: 37.02 ms\n",
      "id: 9TDKvnQBox4EoX0FJ6C2, score: 1.2610159\n",
      "{'title': 'Microsoft.ApplicationBlocks.Data.ODBCHelper?', 'body': \"I've found mention of a data application block existing for ODBC, but can't seem to find it anywhere. If i didn't have a copy of the Access DB application block I wouldn't believe it ever existed either. Anyone know where to download either the DLL or the code-base from? --UPDATE: It is NOT included in either the v1, v2, or Enterprise Library versions of the Data ApplicationBlocks Thanks, Brian Swanson \"}\n",
      "\n",
      "id: WzDKvnQBox4EoX0FKqOb, score: 1.2516936\n",
      "{'title': 'JFrame.setDefaultLookAndFeelDecorated(true);', 'body': 'when i use setDefaultLookAndFeelDecorated(true) method in Java why is the Frame appear FullScreen when i maximize the Frame ? and how can i disaple the FullScreen mode in this method ? '}\n",
      "\n",
      "id: tDDKvnQBox4EoX0FAYfg, score: 1.2066569\n",
      "{'title': 'ActiveRecord#save_only_valid_attributes', 'body': 'I\\'m looking for a variation on the #save method that will only save attributes that do not have errors attached to them. So a model can be updated without being valid overall, and this will still prevent saving invalid data to the database. By \"valid attributes\", I mean those attributes that give nil when calling @model_instance.errors.on(:attribute) Anyone have an idea of how to accomplish this? So far, I have the following: def save_valid_attributes valid? update_atrtibutes attributes.inject({}){|k, v, m| m[k] = v unless errors_on(k.to_sym); m} end This works if there\\'s no processing done on assignment, which in my case there is. For example, I have a database column \"start_date\", and two methods defined: def nice_start_date=(startdate) self.start_date = Chronic.parse(startdate) || startdate end def nice_start_date self.start_date.to_s end These two methods allow me to properly parse the user inputted dates using Chronic before saving. So, second way of doing this, one attribute at a time: def save_valid_attributes(attrib) valid? attrib.each{|(k,v)| send(\"${k}=\", v); save; reload) end The model needs to be reloaded each time since, if one of the dates is invalid and doesn\\'t save, it will prevent all further attributes from saving. Is there a better way to do this? I\\'m sure this isn\\'t an uncommon problem in the Rails world, I just can\\'t seem to find anything in the Google universe of knowledge. '}\n",
      "\n",
      "id: NTDKvnQBox4EoX0FN62g, score: 1.2049899\n",
      "{'title': 'AJAX-Framework', 'body': 'Which Ajax framework/toolkit can you recommend for building the GUI of web applications that are using struts? '}\n",
      "\n",
      "id: 3DDKvnQBox4EoX0FIpwl, score: 1.1982573\n",
      "{'title': 'Hash-algorithm', 'body': \"I am looking for a hash-algorithm, to create as close to a unique hash of a string (max len = 255) as possible, that produces a long integer (DWORD). I realize that 26^255 >> 2^32, but also know that the number of words in the English language is far less than 2^32. The strings I need to 'hash' would be mostly single words or some simple construct using two or three words. The answer: One of the FNV variants should meet your requirements. They're fast, and produce fairly evenly distributed outputs. (Answered by Arachnid) \"}\n",
      "\n",
      "Enter query: 3\n",
      "\n",
      "10000 total hits.\n",
      "embedding time: 10.00 ms\n",
      "search time: 24.03 ms\n",
      "id: 9TDKvnQBox4EoX0FJ6C2, score: 1.3137193\n",
      "{'title': 'Microsoft.ApplicationBlocks.Data.ODBCHelper?', 'body': \"I've found mention of a data application block existing for ODBC, but can't seem to find it anywhere. If i didn't have a copy of the Access DB application block I wouldn't believe it ever existed either. Anyone know where to download either the DLL or the code-base from? --UPDATE: It is NOT included in either the v1, v2, or Enterprise Library versions of the Data ApplicationBlocks Thanks, Brian Swanson \"}\n",
      "\n",
      "id: tDDKvnQBox4EoX0FAYfg, score: 1.2765613\n",
      "{'title': 'ActiveRecord#save_only_valid_attributes', 'body': 'I\\'m looking for a variation on the #save method that will only save attributes that do not have errors attached to them. So a model can be updated without being valid overall, and this will still prevent saving invalid data to the database. By \"valid attributes\", I mean those attributes that give nil when calling @model_instance.errors.on(:attribute) Anyone have an idea of how to accomplish this? So far, I have the following: def save_valid_attributes valid? update_atrtibutes attributes.inject({}){|k, v, m| m[k] = v unless errors_on(k.to_sym); m} end This works if there\\'s no processing done on assignment, which in my case there is. For example, I have a database column \"start_date\", and two methods defined: def nice_start_date=(startdate) self.start_date = Chronic.parse(startdate) || startdate end def nice_start_date self.start_date.to_s end These two methods allow me to properly parse the user inputted dates using Chronic before saving. So, second way of doing this, one attribute at a time: def save_valid_attributes(attrib) valid? attrib.each{|(k,v)| send(\"${k}=\", v); save; reload) end The model needs to be reloaded each time since, if one of the dates is invalid and doesn\\'t save, it will prevent all further attributes from saving. Is there a better way to do this? I\\'m sure this isn\\'t an uncommon problem in the Rails world, I just can\\'t seem to find anything in the Google universe of knowledge. '}\n",
      "\n",
      "id: NTDKvnQBox4EoX0FN62g, score: 1.2454082\n",
      "{'title': 'AJAX-Framework', 'body': 'Which Ajax framework/toolkit can you recommend for building the GUI of web applications that are using struts? '}\n",
      "\n",
      "id: WzDKvnQBox4EoX0FKqOb, score: 1.2415509\n",
      "{'title': 'JFrame.setDefaultLookAndFeelDecorated(true);', 'body': 'when i use setDefaultLookAndFeelDecorated(true) method in Java why is the Frame appear FullScreen when i maximize the Frame ? and how can i disaple the FullScreen mode in this method ? '}\n",
      "\n",
      "id: 3DDKvnQBox4EoX0FIpwl, score: 1.2148407\n",
      "{'title': 'Hash-algorithm', 'body': \"I am looking for a hash-algorithm, to create as close to a unique hash of a string (max len = 255) as possible, that produces a long integer (DWORD). I realize that 26^255 >> 2^32, but also know that the number of words in the English language is far less than 2^32. The strings I need to 'hash' would be mostly single words or some simple construct using two or three words. The answer: One of the FNV variants should meet your requirements. They're fast, and produce fairly evenly distributed outputs. (Answered by Arachnid) \"}\n",
      "\n"
     ]
    },
    {
     "name": "stdout",
     "output_type": "stream",
     "text": [
      "Enter query: 4\n",
      "\n",
      "10000 total hits.\n",
      "embedding time: 12.50 ms\n",
      "search time: 24.52 ms\n",
      "id: 9TDKvnQBox4EoX0FJ6C2, score: 1.337199\n",
      "{'title': 'Microsoft.ApplicationBlocks.Data.ODBCHelper?', 'body': \"I've found mention of a data application block existing for ODBC, but can't seem to find it anywhere. If i didn't have a copy of the Access DB application block I wouldn't believe it ever existed either. Anyone know where to download either the DLL or the code-base from? --UPDATE: It is NOT included in either the v1, v2, or Enterprise Library versions of the Data ApplicationBlocks Thanks, Brian Swanson \"}\n",
      "\n",
      "id: NTDKvnQBox4EoX0FN62g, score: 1.3041186\n",
      "{'title': 'AJAX-Framework', 'body': 'Which Ajax framework/toolkit can you recommend for building the GUI of web applications that are using struts? '}\n",
      "\n",
      "id: tDDKvnQBox4EoX0FAYfg, score: 1.302273\n",
      "{'title': 'ActiveRecord#save_only_valid_attributes', 'body': 'I\\'m looking for a variation on the #save method that will only save attributes that do not have errors attached to them. So a model can be updated without being valid overall, and this will still prevent saving invalid data to the database. By \"valid attributes\", I mean those attributes that give nil when calling @model_instance.errors.on(:attribute) Anyone have an idea of how to accomplish this? So far, I have the following: def save_valid_attributes valid? update_atrtibutes attributes.inject({}){|k, v, m| m[k] = v unless errors_on(k.to_sym); m} end This works if there\\'s no processing done on assignment, which in my case there is. For example, I have a database column \"start_date\", and two methods defined: def nice_start_date=(startdate) self.start_date = Chronic.parse(startdate) || startdate end def nice_start_date self.start_date.to_s end These two methods allow me to properly parse the user inputted dates using Chronic before saving. So, second way of doing this, one attribute at a time: def save_valid_attributes(attrib) valid? attrib.each{|(k,v)| send(\"${k}=\", v); save; reload) end The model needs to be reloaded each time since, if one of the dates is invalid and doesn\\'t save, it will prevent all further attributes from saving. Is there a better way to do this? I\\'m sure this isn\\'t an uncommon problem in the Rails world, I just can\\'t seem to find anything in the Google universe of knowledge. '}\n",
      "\n",
      "id: WzDKvnQBox4EoX0FKqOb, score: 1.2758336\n",
      "{'title': 'JFrame.setDefaultLookAndFeelDecorated(true);', 'body': 'when i use setDefaultLookAndFeelDecorated(true) method in Java why is the Frame appear FullScreen when i maximize the Frame ? and how can i disaple the FullScreen mode in this method ? '}\n",
      "\n",
      "id: 3DDKvnQBox4EoX0FIpwl, score: 1.2444564\n",
      "{'title': 'Hash-algorithm', 'body': \"I am looking for a hash-algorithm, to create as close to a unique hash of a string (max len = 255) as possible, that produces a long integer (DWORD). I realize that 26^255 >> 2^32, but also know that the number of words in the English language is far less than 2^32. The strings I need to 'hash' would be mostly single words or some simple construct using two or three words. The answer: One of the FNV variants should meet your requirements. They're fast, and produce fairly evenly distributed outputs. (Answered by Arachnid) \"}\n",
      "\n",
      "Enter query: 5\n",
      "\n",
      "10000 total hits.\n",
      "embedding time: 14.00 ms\n",
      "search time: 21.02 ms\n",
      "id: tDDKvnQBox4EoX0FAYfg, score: 1.3921186\n",
      "{'title': 'ActiveRecord#save_only_valid_attributes', 'body': 'I\\'m looking for a variation on the #save method that will only save attributes that do not have errors attached to them. So a model can be updated without being valid overall, and this will still prevent saving invalid data to the database. By \"valid attributes\", I mean those attributes that give nil when calling @model_instance.errors.on(:attribute) Anyone have an idea of how to accomplish this? So far, I have the following: def save_valid_attributes valid? update_atrtibutes attributes.inject({}){|k, v, m| m[k] = v unless errors_on(k.to_sym); m} end This works if there\\'s no processing done on assignment, which in my case there is. For example, I have a database column \"start_date\", and two methods defined: def nice_start_date=(startdate) self.start_date = Chronic.parse(startdate) || startdate end def nice_start_date self.start_date.to_s end These two methods allow me to properly parse the user inputted dates using Chronic before saving. So, second way of doing this, one attribute at a time: def save_valid_attributes(attrib) valid? attrib.each{|(k,v)| send(\"${k}=\", v); save; reload) end The model needs to be reloaded each time since, if one of the dates is invalid and doesn\\'t save, it will prevent all further attributes from saving. Is there a better way to do this? I\\'m sure this isn\\'t an uncommon problem in the Rails world, I just can\\'t seem to find anything in the Google universe of knowledge. '}\n",
      "\n",
      "id: NzDKvnQBox4EoX0FGpf7, score: 1.3594844\n",
      "{'title': 'memberInfo.GetValue() C#', 'body': \"How to get an instance's member's values? With propertyInfos there is a propertyInfo.GetValue(instance, index), but no such thing exists in memberInfo. I searched the net, but it seems to stop at getting the member's name and type. \"}\n",
      "\n",
      "id: 9TDKvnQBox4EoX0FJ6C2, score: 1.3585161\n",
      "{'title': 'Microsoft.ApplicationBlocks.Data.ODBCHelper?', 'body': \"I've found mention of a data application block existing for ODBC, but can't seem to find it anywhere. If i didn't have a copy of the Access DB application block I wouldn't believe it ever existed either. Anyone know where to download either the DLL or the code-base from? --UPDATE: It is NOT included in either the v1, v2, or Enterprise Library versions of the Data ApplicationBlocks Thanks, Brian Swanson \"}\n",
      "\n",
      "id: WzDKvnQBox4EoX0FKqOb, score: 1.3019401\n",
      "{'title': 'JFrame.setDefaultLookAndFeelDecorated(true);', 'body': 'when i use setDefaultLookAndFeelDecorated(true) method in Java why is the Frame appear FullScreen when i maximize the Frame ? and how can i disaple the FullScreen mode in this method ? '}\n",
      "\n",
      "id: 9jDJvnQBox4EoX0F0mjI, score: 1.2518641\n",
      "{'title': 'F# Closure', 'body': 'Anyone have a decent example, preferably practical/useful, they could post demonstrating the concept? '}\n",
      "\n",
      "Closing tensorflow session...\n",
      "Done.\n"
     ]
    }
   ],
   "source": [
    "##### MAIN SCRIPT #####\n",
    "\n",
    "import tensorflow_hub as hub\n",
    "tf.disable_eager_execution()\n",
    "\n",
    "if __name__ == '__main__':\n",
    "    print('name=main')\n",
    "    \n",
    "    INDEX_NAME = \"posts\"\n",
    "    INDEX_FILE = \"data/posts/index.json\"\n",
    "\n",
    "    DATA_FILE = \"data/posts/posts.json\"\n",
    "    BATCH_SIZE = 1000\n",
    "\n",
    "    SEARCH_SIZE = 5\n",
    "\n",
    "    GPU_LIMIT = 0.1\n",
    "    \n",
    "    print(\"Downloading pre-trained embeddings from tensorflow hub...\")\n",
    "    embed = hub.load(\"https://tfhub.dev/google/universal-sentence-encoder/4\")\n",
    "    text_ph = tf.placeholder(tf.string)\n",
    "    embeddings = embed(text_ph)\n",
    "    print(\"Done.\")\n",
    "    \n",
    "    \n",
    "    \n",
    "    print(\"Creating tensorflow session...\")\n",
    "    config = tf.ConfigProto()\n",
    "    config.gpu_options.per_process_gpu_memory_fraction = GPU_LIMIT\n",
    "   \n",
    "    session = tf.Session(config=config)\n",
    "    print('running session...')\n",
    "    \n",
    "\n",
    "    \n",
    "    session.run(tf.global_variables_initializer())\n",
    "    #sess.run(tf.global_variables_initializer())\n",
    "    print('ran session...')\n",
    "    session.run(tf.tables_initializer())\n",
    "    print(\"Done.\")\n",
    "\n",
    "    client = Elasticsearch()\n",
    "    '''\n",
    "    index_data()\n",
    "    '''\n",
    "    run_query_loop()\n",
    "\n",
    "    print(\"Closing tensorflow session...\")\n",
    "    session.close()\n",
    "    print(\"Done.\")\n"
   ]
  },
  {
   "cell_type": "code",
   "execution_count": 6,
   "metadata": {},
   "outputs": [],
   "source": [
    "import pandas as pd"
   ]
  },
  {
   "cell_type": "code",
   "execution_count": 8,
   "metadata": {},
   "outputs": [],
   "source": [
    "posts_data=pd.read_json('data/posts/posts.json', lines=True)"
   ]
  },
  {
   "cell_type": "code",
   "execution_count": 9,
   "metadata": {},
   "outputs": [
    {
     "data": {
      "text/html": [
       "<div>\n",
       "<style scoped>\n",
       "    .dataframe tbody tr th:only-of-type {\n",
       "        vertical-align: middle;\n",
       "    }\n",
       "\n",
       "    .dataframe tbody tr th {\n",
       "        vertical-align: top;\n",
       "    }\n",
       "\n",
       "    .dataframe thead th {\n",
       "        text-align: right;\n",
       "    }\n",
       "</style>\n",
       "<table border=\"1\" class=\"dataframe\">\n",
       "  <thead>\n",
       "    <tr style=\"text-align: right;\">\n",
       "      <th></th>\n",
       "      <th>user</th>\n",
       "      <th>tags</th>\n",
       "      <th>questionId</th>\n",
       "      <th>creationDate</th>\n",
       "      <th>title</th>\n",
       "      <th>acceptedAnswerId</th>\n",
       "      <th>type</th>\n",
       "      <th>body</th>\n",
       "      <th>answerId</th>\n",
       "    </tr>\n",
       "  </thead>\n",
       "  <tbody>\n",
       "    <tr>\n",
       "      <th>0</th>\n",
       "      <td>8</td>\n",
       "      <td>[c#, winforms, type-conversion, decimal, opacity]</td>\n",
       "      <td>4</td>\n",
       "      <td>2008-07-31T21:42:52.667</td>\n",
       "      <td>While applying opacity to a form should we use...</td>\n",
       "      <td>7.0</td>\n",
       "      <td>question</td>\n",
       "      <td>I want to use a track-bar to change a form's o...</td>\n",
       "      <td>NaN</td>\n",
       "    </tr>\n",
       "    <tr>\n",
       "      <th>1</th>\n",
       "      <td>9</td>\n",
       "      <td>[html, css, css3, internet-explorer-7]</td>\n",
       "      <td>6</td>\n",
       "      <td>2008-07-31T22:08:08.620</td>\n",
       "      <td>Percentage width child element in absolutely p...</td>\n",
       "      <td>31.0</td>\n",
       "      <td>question</td>\n",
       "      <td>I have an absolutely positioned div containing...</td>\n",
       "      <td>NaN</td>\n",
       "    </tr>\n",
       "    <tr>\n",
       "      <th>2</th>\n",
       "      <td>9</td>\n",
       "      <td>NaN</td>\n",
       "      <td>4</td>\n",
       "      <td>2008-07-31T22:17:57.883</td>\n",
       "      <td>NaN</td>\n",
       "      <td>NaN</td>\n",
       "      <td>answer</td>\n",
       "      <td>An explicit cast to double isn't necessary. do...</td>\n",
       "      <td>7.0</td>\n",
       "    </tr>\n",
       "    <tr>\n",
       "      <th>3</th>\n",
       "      <td>1</td>\n",
       "      <td>[c#, .net, datetime]</td>\n",
       "      <td>9</td>\n",
       "      <td>2008-07-31T23:40:59.743</td>\n",
       "      <td>Calculate age in C#</td>\n",
       "      <td>1404.0</td>\n",
       "      <td>question</td>\n",
       "      <td>Given a DateTime representing a person's birth...</td>\n",
       "      <td>NaN</td>\n",
       "    </tr>\n",
       "    <tr>\n",
       "      <th>4</th>\n",
       "      <td>1</td>\n",
       "      <td>[c#, datetime, time, datediff, relative-time-s...</td>\n",
       "      <td>11</td>\n",
       "      <td>2008-07-31T23:55:37.967</td>\n",
       "      <td>Calculate relative time in C#</td>\n",
       "      <td>1248.0</td>\n",
       "      <td>question</td>\n",
       "      <td>Given a specific DateTime value, how do I disp...</td>\n",
       "      <td>NaN</td>\n",
       "    </tr>\n",
       "  </tbody>\n",
       "</table>\n",
       "</div>"
      ],
      "text/plain": [
       "  user                                               tags  questionId  \\\n",
       "0    8  [c#, winforms, type-conversion, decimal, opacity]           4   \n",
       "1    9             [html, css, css3, internet-explorer-7]           6   \n",
       "2    9                                                NaN           4   \n",
       "3    1                               [c#, .net, datetime]           9   \n",
       "4    1  [c#, datetime, time, datediff, relative-time-s...          11   \n",
       "\n",
       "              creationDate                                              title  \\\n",
       "0  2008-07-31T21:42:52.667  While applying opacity to a form should we use...   \n",
       "1  2008-07-31T22:08:08.620  Percentage width child element in absolutely p...   \n",
       "2  2008-07-31T22:17:57.883                                                NaN   \n",
       "3  2008-07-31T23:40:59.743                                Calculate age in C#   \n",
       "4  2008-07-31T23:55:37.967                      Calculate relative time in C#   \n",
       "\n",
       "   acceptedAnswerId      type  \\\n",
       "0               7.0  question   \n",
       "1              31.0  question   \n",
       "2               NaN    answer   \n",
       "3            1404.0  question   \n",
       "4            1248.0  question   \n",
       "\n",
       "                                                body  answerId  \n",
       "0  I want to use a track-bar to change a form's o...       NaN  \n",
       "1  I have an absolutely positioned div containing...       NaN  \n",
       "2  An explicit cast to double isn't necessary. do...       7.0  \n",
       "3  Given a DateTime representing a person's birth...       NaN  \n",
       "4  Given a specific DateTime value, how do I disp...       NaN  "
      ]
     },
     "execution_count": 9,
     "metadata": {},
     "output_type": "execute_result"
    }
   ],
   "source": [
    "posts_data.head()"
   ]
  },
  {
   "cell_type": "code",
   "execution_count": 10,
   "metadata": {},
   "outputs": [
    {
     "data": {
      "text/plain": [
       "(100000, 9)"
      ]
     },
     "execution_count": 10,
     "metadata": {},
     "output_type": "execute_result"
    }
   ],
   "source": [
    "posts_data.shape"
   ]
  },
  {
   "cell_type": "code",
   "execution_count": 11,
   "metadata": {},
   "outputs": [
    {
     "data": {
      "text/plain": [
       "count     100000\n",
       "unique         2\n",
       "top       answer\n",
       "freq       81152\n",
       "Name: type, dtype: object"
      ]
     },
     "execution_count": 11,
     "metadata": {},
     "output_type": "execute_result"
    }
   ],
   "source": [
    "posts_data.type.describe()"
   ]
  },
  {
   "cell_type": "markdown",
   "metadata": {},
   "source": [
    "Script adds to index only questions (ES index size has about 20 000 docs)"
   ]
  }
 ],
 "metadata": {
  "hide_input": false,
  "kernelspec": {
   "display_name": "Python 3",
   "language": "python",
   "name": "python3"
  },
  "language_info": {
   "codemirror_mode": {
    "name": "ipython",
    "version": 3
   },
   "file_extension": ".py",
   "mimetype": "text/x-python",
   "name": "python",
   "nbconvert_exporter": "python",
   "pygments_lexer": "ipython3",
   "version": "3.7.6"
  },
  "toc": {
   "base_numbering": 1,
   "nav_menu": {},
   "number_sections": true,
   "sideBar": true,
   "skip_h1_title": false,
   "title_cell": "Table of Contents",
   "title_sidebar": "Contents",
   "toc_cell": false,
   "toc_position": {},
   "toc_section_display": true,
   "toc_window_display": false
  },
  "varInspector": {
   "cols": {
    "lenName": 16,
    "lenType": 16,
    "lenVar": 40
   },
   "kernels_config": {
    "python": {
     "delete_cmd_postfix": "",
     "delete_cmd_prefix": "del ",
     "library": "var_list.py",
     "varRefreshCmd": "print(var_dic_list())"
    },
    "r": {
     "delete_cmd_postfix": ") ",
     "delete_cmd_prefix": "rm(",
     "library": "var_list.r",
     "varRefreshCmd": "cat(var_dic_list()) "
    }
   },
   "types_to_exclude": [
    "module",
    "function",
    "builtin_function_or_method",
    "instance",
    "_Feature"
   ],
   "window_display": false
  }
 },
 "nbformat": 4,
 "nbformat_minor": 4
}
